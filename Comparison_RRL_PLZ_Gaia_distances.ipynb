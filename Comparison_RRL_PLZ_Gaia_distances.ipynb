{
 "cells": [
  {
   "cell_type": "code",
   "execution_count": 1,
   "metadata": {
    "collapsed": false
   },
   "outputs": [
    {
     "name": "stderr",
     "output_type": "stream",
     "text": [
      "/Users/vs522/anaconda3/envs/astroconda/lib/python3.5/site-packages/IPython/html.py:14: ShimWarning: The `IPython.html` package has been deprecated. You should import from `notebook` instead. `IPython.html.widgets` has moved to `ipywidgets`.\n",
      "  \"`IPython.html.widgets` has moved to `ipywidgets`.\", ShimWarning)\n"
     ]
    }
   ],
   "source": [
    "%matplotlib inline\n",
    "import numpy as np\n",
    "import matplotlib.pyplot as mp\n",
    "import pandas as pd\n",
    "from scipy.optimize import curve_fit\n",
    "from scipy.optimize import least_squares\n",
    "import markdown\n",
    "import sys\n",
    "sys.path.append('/Users/vs522/Dropbox/Python')\n",
    "from astropy.table import Table\n",
    "from astropy import units as u\n",
    "import seaborn as sns\n",
    "import os\n",
    "import glob\n",
    "import linecache\n",
    "import re\n",
    "from IPython.display import Image\n",
    "import itertools\n",
    "import reddening_laws as red\n",
    "from astropy.stats import sigma_clip\n",
    "import scipy.optimize as op\n",
    "from astroquery.irsa_dust import IrsaDust\n",
    "from astroquery.simbad import Simbad\n",
    "from astropy import units as u\n",
    "from astropy.coordinates import SkyCoord\n",
    "\n",
    "\n",
    "\n",
    "\n",
    "\n",
    "bigfontsize=20\n",
    "labelfontsize=16\n",
    "tickfontsize=16\n",
    "sns.set_context('talk')\n",
    "mp.rcParams.update({'font.size': bigfontsize,\n",
    "                     'axes.labelsize':labelfontsize,\n",
    "                     'xtick.labelsize':tickfontsize,\n",
    "                     'ytick.labelsize':tickfontsize,\n",
    "                     'legend.fontsize':tickfontsize,\n",
    "                     })\n",
    "\n",
    "sns.set(style=\"darkgrid\")\n",
    "sns.set_context(\"notebook\", font_scale=1.5, rc={\"lines.linewidth\": 2.0})\n",
    "\n",
    "sns.set_palette(\"Set2\")\n",
    "colours = sns.color_palette()"
   ]
  },
  {
   "cell_type": "code",
   "execution_count": null,
   "metadata": {
    "collapsed": true
   },
   "outputs": [],
   "source": []
  }
 ],
 "metadata": {
  "kernelspec": {
   "display_name": "Python 3",
   "language": "python",
   "name": "python3"
  },
  "language_info": {
   "codemirror_mode": {
    "name": "ipython",
    "version": 3
   },
   "file_extension": ".py",
   "mimetype": "text/x-python",
   "name": "python",
   "nbconvert_exporter": "python",
   "pygments_lexer": "ipython3",
   "version": "3.5.1"
  },
  "latex_envs": {
   "LaTeX_envs_menu_present": true,
   "bibliofile": "biblio.bib",
   "cite_by": "apalike",
   "current_citInitial": 1,
   "eqLabelWithNumbers": true,
   "eqNumInitial": 1,
   "labels_anchors": false,
   "latex_user_defs": false,
   "report_style_numbering": false,
   "user_envs_cfg": false
  }
 },
 "nbformat": 4,
 "nbformat_minor": 2
}
